{
 "cells": [
  {
   "cell_type": "markdown",
   "id": "85fcc155",
   "metadata": {},
   "source": [
    "# Entregável 02 - Turing Academy"
   ]
  },
  {
   "cell_type": "markdown",
   "id": "4f932c2f",
   "metadata": {},
   "source": [
    "#### Nome: Mariana Souza SIlva"
   ]
  },
  {
   "cell_type": "markdown",
   "id": "e1d20881",
   "metadata": {},
   "source": [
    "link do enunciado (com dataset): https://docs.google.com/document/d/1JeGIkXKxqZwfo_ViF9-qEaKky4hfjy7qpSF1YJVJ_qQ/edit?usp=sharing"
   ]
  },
  {
   "cell_type": "markdown",
   "id": "c214c5c6",
   "metadata": {},
   "source": [
    "### Análise do Dataset"
   ]
  },
  {
   "cell_type": "code",
   "execution_count": 1,
   "id": "5ed6299f",
   "metadata": {},
   "outputs": [],
   "source": [
    "import pandas as pd\n",
    "import matplotlib.pyplot as plt\n",
    "import seaborn as sns"
   ]
  },
  {
   "cell_type": "code",
   "execution_count": 2,
   "id": "355c1cc5",
   "metadata": {},
   "outputs": [],
   "source": [
    "df = pd.read_csv(\"dataset2.csv\")"
   ]
  },
  {
   "cell_type": "code",
   "execution_count": 3,
   "id": "eab336d9",
   "metadata": {
    "scrolled": false
   },
   "outputs": [
    {
     "data": {
      "text/html": [
       "<div>\n",
       "<style scoped>\n",
       "    .dataframe tbody tr th:only-of-type {\n",
       "        vertical-align: middle;\n",
       "    }\n",
       "\n",
       "    .dataframe tbody tr th {\n",
       "        vertical-align: top;\n",
       "    }\n",
       "\n",
       "    .dataframe thead th {\n",
       "        text-align: right;\n",
       "    }\n",
       "</style>\n",
       "<table border=\"1\" class=\"dataframe\">\n",
       "  <thead>\n",
       "    <tr style=\"text-align: right;\">\n",
       "      <th></th>\n",
       "      <th>sex</th>\n",
       "      <th>age</th>\n",
       "      <th>height</th>\n",
       "      <th>weight</th>\n",
       "    </tr>\n",
       "  </thead>\n",
       "  <tbody>\n",
       "    <tr>\n",
       "      <th>0</th>\n",
       "      <td>M</td>\n",
       "      <td>62</td>\n",
       "      <td>1.874021</td>\n",
       "      <td>114.384199</td>\n",
       "    </tr>\n",
       "    <tr>\n",
       "      <th>1</th>\n",
       "      <td>F</td>\n",
       "      <td>44</td>\n",
       "      <td>1.672676</td>\n",
       "      <td>76.031332</td>\n",
       "    </tr>\n",
       "    <tr>\n",
       "      <th>2</th>\n",
       "      <td>F</td>\n",
       "      <td>49</td>\n",
       "      <td>1.587970</td>\n",
       "      <td>46.403086</td>\n",
       "    </tr>\n",
       "    <tr>\n",
       "      <th>3</th>\n",
       "      <td>F</td>\n",
       "      <td>25</td>\n",
       "      <td>1.653451</td>\n",
       "      <td>104.352744</td>\n",
       "    </tr>\n",
       "    <tr>\n",
       "      <th>4</th>\n",
       "      <td>M</td>\n",
       "      <td>65</td>\n",
       "      <td>1.744867</td>\n",
       "      <td>76.831890</td>\n",
       "    </tr>\n",
       "    <tr>\n",
       "      <th>...</th>\n",
       "      <td>...</td>\n",
       "      <td>...</td>\n",
       "      <td>...</td>\n",
       "      <td>...</td>\n",
       "    </tr>\n",
       "    <tr>\n",
       "      <th>9995</th>\n",
       "      <td>M</td>\n",
       "      <td>68</td>\n",
       "      <td>1.999051</td>\n",
       "      <td>135.605141</td>\n",
       "    </tr>\n",
       "    <tr>\n",
       "      <th>9996</th>\n",
       "      <td>female</td>\n",
       "      <td>33</td>\n",
       "      <td>1.601821</td>\n",
       "      <td>141.973080</td>\n",
       "    </tr>\n",
       "    <tr>\n",
       "      <th>9997</th>\n",
       "      <td>M</td>\n",
       "      <td>25</td>\n",
       "      <td>1.926656</td>\n",
       "      <td>131.105269</td>\n",
       "    </tr>\n",
       "    <tr>\n",
       "      <th>9998</th>\n",
       "      <td>F</td>\n",
       "      <td>32</td>\n",
       "      <td>1.844436</td>\n",
       "      <td>62.475271</td>\n",
       "    </tr>\n",
       "    <tr>\n",
       "      <th>9999</th>\n",
       "      <td>M</td>\n",
       "      <td>61</td>\n",
       "      <td>1.958910</td>\n",
       "      <td>136.539595</td>\n",
       "    </tr>\n",
       "  </tbody>\n",
       "</table>\n",
       "<p>10000 rows × 4 columns</p>\n",
       "</div>"
      ],
      "text/plain": [
       "         sex  age    height      weight\n",
       "0          M   62  1.874021  114.384199\n",
       "1          F   44  1.672676   76.031332\n",
       "2          F   49  1.587970   46.403086\n",
       "3          F   25  1.653451  104.352744\n",
       "4          M   65  1.744867   76.831890\n",
       "...      ...  ...       ...         ...\n",
       "9995       M   68  1.999051  135.605141\n",
       "9996  female   33  1.601821  141.973080\n",
       "9997       M   25  1.926656  131.105269\n",
       "9998       F   32  1.844436   62.475271\n",
       "9999       M   61  1.958910  136.539595\n",
       "\n",
       "[10000 rows x 4 columns]"
      ]
     },
     "execution_count": 3,
     "metadata": {},
     "output_type": "execute_result"
    }
   ],
   "source": [
    "df"
   ]
  },
  {
   "cell_type": "code",
   "execution_count": 4,
   "id": "c5ba7262",
   "metadata": {},
   "outputs": [
    {
     "name": "stdout",
     "output_type": "stream",
     "text": [
      "<class 'pandas.core.frame.DataFrame'>\n",
      "RangeIndex: 10000 entries, 0 to 9999\n",
      "Data columns (total 4 columns):\n",
      " #   Column  Non-Null Count  Dtype  \n",
      "---  ------  --------------  -----  \n",
      " 0   sex     10000 non-null  object \n",
      " 1   age     10000 non-null  int64  \n",
      " 2   height  10000 non-null  float64\n",
      " 3   weight  10000 non-null  float64\n",
      "dtypes: float64(2), int64(1), object(1)\n",
      "memory usage: 312.6+ KB\n"
     ]
    }
   ],
   "source": [
    "df.info() #datatypes compatíveis"
   ]
  },
  {
   "cell_type": "code",
   "execution_count": 5,
   "id": "2242b818",
   "metadata": {},
   "outputs": [
    {
     "data": {
      "text/html": [
       "<div>\n",
       "<style scoped>\n",
       "    .dataframe tbody tr th:only-of-type {\n",
       "        vertical-align: middle;\n",
       "    }\n",
       "\n",
       "    .dataframe tbody tr th {\n",
       "        vertical-align: top;\n",
       "    }\n",
       "\n",
       "    .dataframe thead th {\n",
       "        text-align: right;\n",
       "    }\n",
       "</style>\n",
       "<table border=\"1\" class=\"dataframe\">\n",
       "  <thead>\n",
       "    <tr style=\"text-align: right;\">\n",
       "      <th></th>\n",
       "      <th>age</th>\n",
       "      <th>height</th>\n",
       "      <th>weight</th>\n",
       "    </tr>\n",
       "  </thead>\n",
       "  <tbody>\n",
       "    <tr>\n",
       "      <th>count</th>\n",
       "      <td>10000.000000</td>\n",
       "      <td>10000.000000</td>\n",
       "      <td>10000.000000</td>\n",
       "    </tr>\n",
       "    <tr>\n",
       "      <th>mean</th>\n",
       "      <td>42.171700</td>\n",
       "      <td>1.708993</td>\n",
       "      <td>88.910496</td>\n",
       "    </tr>\n",
       "    <tr>\n",
       "      <th>std</th>\n",
       "      <td>16.425919</td>\n",
       "      <td>0.099272</td>\n",
       "      <td>33.328269</td>\n",
       "    </tr>\n",
       "    <tr>\n",
       "      <th>min</th>\n",
       "      <td>14.000000</td>\n",
       "      <td>1.376462</td>\n",
       "      <td>17.970189</td>\n",
       "    </tr>\n",
       "    <tr>\n",
       "      <th>25%</th>\n",
       "      <td>28.000000</td>\n",
       "      <td>1.636008</td>\n",
       "      <td>69.394196</td>\n",
       "    </tr>\n",
       "    <tr>\n",
       "      <th>50%</th>\n",
       "      <td>42.000000</td>\n",
       "      <td>1.702588</td>\n",
       "      <td>83.518259</td>\n",
       "    </tr>\n",
       "    <tr>\n",
       "      <th>75%</th>\n",
       "      <td>57.000000</td>\n",
       "      <td>1.776343</td>\n",
       "      <td>99.050654</td>\n",
       "    </tr>\n",
       "    <tr>\n",
       "      <th>max</th>\n",
       "      <td>70.000000</td>\n",
       "      <td>2.054139</td>\n",
       "      <td>335.295817</td>\n",
       "    </tr>\n",
       "  </tbody>\n",
       "</table>\n",
       "</div>"
      ],
      "text/plain": [
       "                age        height        weight\n",
       "count  10000.000000  10000.000000  10000.000000\n",
       "mean      42.171700      1.708993     88.910496\n",
       "std       16.425919      0.099272     33.328269\n",
       "min       14.000000      1.376462     17.970189\n",
       "25%       28.000000      1.636008     69.394196\n",
       "50%       42.000000      1.702588     83.518259\n",
       "75%       57.000000      1.776343     99.050654\n",
       "max       70.000000      2.054139    335.295817"
      ]
     },
     "execution_count": 5,
     "metadata": {},
     "output_type": "execute_result"
    }
   ],
   "source": [
    "df.describe() # weight apresenta valores absurdos de massa? muito baixos e muito altos tb"
   ]
  },
  {
   "cell_type": "markdown",
   "id": "fe2c602f",
   "metadata": {},
   "source": [
    "## 2.a)"
   ]
  },
  {
   "cell_type": "code",
   "execution_count": 6,
   "id": "0332e953",
   "metadata": {
    "scrolled": false
   },
   "outputs": [
    {
     "data": {
      "text/plain": [
       "<Figure size 1400x1500 with 0 Axes>"
      ]
     },
     "metadata": {},
     "output_type": "display_data"
    },
    {
     "data": {
      "image/png": "[encoded data removed]",
      "text/plain": [
       "<Figure size 640x480 with 1 Axes>"
      ]
     },
     "metadata": {},
     "output_type": "display_data"
    }
   ],
   "source": [
    "plt.figure(figsize=(14, 15))\n",
    "df.plot(kind='scatter', x='height', y='weight', xlabel='altura', ylabel='peso')\n",
    "plt.show()"
   ]
  },
  {
   "cell_type": "markdown",
   "id": "847a22e1",
   "metadata": {},
   "source": [
    "O dataset apresenta valores absurdos de peso - muito altos e muito baixos também."
   ]
  },
  {
   "cell_type": "markdown",
   "id": "cd634767",
   "metadata": {},
   "source": [
    "## 2.b)"
   ]
  },
  {
   "cell_type": "code",
   "execution_count": 7,
   "id": "243733cd",
   "metadata": {},
   "outputs": [
    {
     "data": {
      "text/plain": [
       "array(['M', 'F', 'male', 'female'], dtype=object)"
      ]
     },
     "execution_count": 7,
     "metadata": {},
     "output_type": "execute_result"
    }
   ],
   "source": [
    "df.sex.unique() #vamos separar os tais dois conjuntos de dados"
   ]
  },
  {
   "cell_type": "code",
   "execution_count": 8,
   "id": "26803ce9",
   "metadata": {},
   "outputs": [],
   "source": [
    "mask1 = ((df.sex == 'M') | (df.sex == 'F'))\n",
    "M = df[mask1]\n",
    "male = df[~mask1]"
   ]
  },
  {
   "cell_type": "code",
   "execution_count": 9,
   "id": "097fcbab",
   "metadata": {},
   "outputs": [
    {
     "data": {
      "text/html": [
       "<div>\n",
       "<style scoped>\n",
       "    .dataframe tbody tr th:only-of-type {\n",
       "        vertical-align: middle;\n",
       "    }\n",
       "\n",
       "    .dataframe tbody tr th {\n",
       "        vertical-align: top;\n",
       "    }\n",
       "\n",
       "    .dataframe thead th {\n",
       "        text-align: right;\n",
       "    }\n",
       "</style>\n",
       "<table border=\"1\" class=\"dataframe\">\n",
       "  <thead>\n",
       "    <tr style=\"text-align: right;\">\n",
       "      <th></th>\n",
       "      <th>age</th>\n",
       "      <th>height</th>\n",
       "      <th>weight</th>\n",
       "    </tr>\n",
       "  </thead>\n",
       "  <tbody>\n",
       "    <tr>\n",
       "      <th>count</th>\n",
       "      <td>9341.000000</td>\n",
       "      <td>9341.000000</td>\n",
       "      <td>9341.000000</td>\n",
       "    </tr>\n",
       "    <tr>\n",
       "      <th>mean</th>\n",
       "      <td>42.134782</td>\n",
       "      <td>1.709510</td>\n",
       "      <td>82.418147</td>\n",
       "    </tr>\n",
       "    <tr>\n",
       "      <th>std</th>\n",
       "      <td>16.421689</td>\n",
       "      <td>0.099456</td>\n",
       "      <td>20.188283</td>\n",
       "    </tr>\n",
       "    <tr>\n",
       "      <th>min</th>\n",
       "      <td>14.000000</td>\n",
       "      <td>1.376462</td>\n",
       "      <td>17.970189</td>\n",
       "    </tr>\n",
       "    <tr>\n",
       "      <th>25%</th>\n",
       "      <td>28.000000</td>\n",
       "      <td>1.636289</td>\n",
       "      <td>68.399528</td>\n",
       "    </tr>\n",
       "    <tr>\n",
       "      <th>50%</th>\n",
       "      <td>42.000000</td>\n",
       "      <td>1.703352</td>\n",
       "      <td>81.747162</td>\n",
       "    </tr>\n",
       "    <tr>\n",
       "      <th>75%</th>\n",
       "      <td>56.000000</td>\n",
       "      <td>1.777154</td>\n",
       "      <td>95.383977</td>\n",
       "    </tr>\n",
       "    <tr>\n",
       "      <th>max</th>\n",
       "      <td>70.000000</td>\n",
       "      <td>2.054139</td>\n",
       "      <td>166.235710</td>\n",
       "    </tr>\n",
       "  </tbody>\n",
       "</table>\n",
       "</div>"
      ],
      "text/plain": [
       "               age       height       weight\n",
       "count  9341.000000  9341.000000  9341.000000\n",
       "mean     42.134782     1.709510    82.418147\n",
       "std      16.421689     0.099456    20.188283\n",
       "min      14.000000     1.376462    17.970189\n",
       "25%      28.000000     1.636289    68.399528\n",
       "50%      42.000000     1.703352    81.747162\n",
       "75%      56.000000     1.777154    95.383977\n",
       "max      70.000000     2.054139   166.235710"
      ]
     },
     "execution_count": 9,
     "metadata": {},
     "output_type": "execute_result"
    }
   ],
   "source": [
    "M.describe()"
   ]
  },
  {
   "cell_type": "code",
   "execution_count": 10,
   "id": "4ce0ddb2",
   "metadata": {
    "scrolled": true
   },
   "outputs": [
    {
     "data": {
      "text/html": [
       "<div>\n",
       "<style scoped>\n",
       "    .dataframe tbody tr th:only-of-type {\n",
       "        vertical-align: middle;\n",
       "    }\n",
       "\n",
       "    .dataframe tbody tr th {\n",
       "        vertical-align: top;\n",
       "    }\n",
       "\n",
       "    .dataframe thead th {\n",
       "        text-align: right;\n",
       "    }\n",
       "</style>\n",
       "<table border=\"1\" class=\"dataframe\">\n",
       "  <thead>\n",
       "    <tr style=\"text-align: right;\">\n",
       "      <th></th>\n",
       "      <th>age</th>\n",
       "      <th>height</th>\n",
       "      <th>weight</th>\n",
       "    </tr>\n",
       "  </thead>\n",
       "  <tbody>\n",
       "    <tr>\n",
       "      <th>count</th>\n",
       "      <td>659.000000</td>\n",
       "      <td>659.000000</td>\n",
       "      <td>659.000000</td>\n",
       "    </tr>\n",
       "    <tr>\n",
       "      <th>mean</th>\n",
       "      <td>42.694992</td>\n",
       "      <td>1.701653</td>\n",
       "      <td>180.936348</td>\n",
       "    </tr>\n",
       "    <tr>\n",
       "      <th>std</th>\n",
       "      <td>16.489367</td>\n",
       "      <td>0.096399</td>\n",
       "      <td>44.879280</td>\n",
       "    </tr>\n",
       "    <tr>\n",
       "      <th>min</th>\n",
       "      <td>14.000000</td>\n",
       "      <td>1.419564</td>\n",
       "      <td>61.106421</td>\n",
       "    </tr>\n",
       "    <tr>\n",
       "      <th>25%</th>\n",
       "      <td>29.000000</td>\n",
       "      <td>1.633500</td>\n",
       "      <td>148.137995</td>\n",
       "    </tr>\n",
       "    <tr>\n",
       "      <th>50%</th>\n",
       "      <td>42.000000</td>\n",
       "      <td>1.692808</td>\n",
       "      <td>176.457500</td>\n",
       "    </tr>\n",
       "    <tr>\n",
       "      <th>75%</th>\n",
       "      <td>57.000000</td>\n",
       "      <td>1.767464</td>\n",
       "      <td>208.595976</td>\n",
       "    </tr>\n",
       "    <tr>\n",
       "      <th>max</th>\n",
       "      <td>70.000000</td>\n",
       "      <td>1.960126</td>\n",
       "      <td>335.295817</td>\n",
       "    </tr>\n",
       "  </tbody>\n",
       "</table>\n",
       "</div>"
      ],
      "text/plain": [
       "              age      height      weight\n",
       "count  659.000000  659.000000  659.000000\n",
       "mean    42.694992    1.701653  180.936348\n",
       "std     16.489367    0.096399   44.879280\n",
       "min     14.000000    1.419564   61.106421\n",
       "25%     29.000000    1.633500  148.137995\n",
       "50%     42.000000    1.692808  176.457500\n",
       "75%     57.000000    1.767464  208.595976\n",
       "max     70.000000    1.960126  335.295817"
      ]
     },
     "execution_count": 10,
     "metadata": {},
     "output_type": "execute_result"
    }
   ],
   "source": [
    "male.describe()"
   ]
  },
  {
   "cell_type": "markdown",
   "id": "e571daee",
   "metadata": {},
   "source": [
    "Vemos que o conjunto de dados que tem 'male' e 'female' como categorias para 'sex' apresenta valores de peso muito altos de modo uniforme - podemos supor que eles estão em libras"
   ]
  },
  {
   "cell_type": "code",
   "execution_count": 11,
   "id": "212e1b96",
   "metadata": {},
   "outputs": [],
   "source": [
    "df.loc[df[~mask1].index, 'weight'] = df[~mask1].weight*0.45359237"
   ]
  },
  {
   "cell_type": "code",
   "execution_count": 12,
   "id": "f13cffdb",
   "metadata": {},
   "outputs": [],
   "source": [
    "df.sex = df.sex.replace({'male': 'M', 'female': 'F'})"
   ]
  },
  {
   "cell_type": "code",
   "execution_count": 13,
   "id": "9c00cbaa",
   "metadata": {
    "scrolled": false
   },
   "outputs": [
    {
     "data": {
      "text/html": [
       "<div>\n",
       "<style scoped>\n",
       "    .dataframe tbody tr th:only-of-type {\n",
       "        vertical-align: middle;\n",
       "    }\n",
       "\n",
       "    .dataframe tbody tr th {\n",
       "        vertical-align: top;\n",
       "    }\n",
       "\n",
       "    .dataframe thead th {\n",
       "        text-align: right;\n",
       "    }\n",
       "</style>\n",
       "<table border=\"1\" class=\"dataframe\">\n",
       "  <thead>\n",
       "    <tr style=\"text-align: right;\">\n",
       "      <th></th>\n",
       "      <th>age</th>\n",
       "      <th>height</th>\n",
       "      <th>weight</th>\n",
       "    </tr>\n",
       "  </thead>\n",
       "  <tbody>\n",
       "    <tr>\n",
       "      <th>count</th>\n",
       "      <td>10000.000000</td>\n",
       "      <td>10000.000000</td>\n",
       "      <td>10000.000000</td>\n",
       "    </tr>\n",
       "    <tr>\n",
       "      <th>mean</th>\n",
       "      <td>42.171700</td>\n",
       "      <td>1.708993</td>\n",
       "      <td>82.395292</td>\n",
       "    </tr>\n",
       "    <tr>\n",
       "      <th>std</th>\n",
       "      <td>16.425919</td>\n",
       "      <td>0.099272</td>\n",
       "      <td>20.198597</td>\n",
       "    </tr>\n",
       "    <tr>\n",
       "      <th>min</th>\n",
       "      <td>14.000000</td>\n",
       "      <td>1.376462</td>\n",
       "      <td>17.970189</td>\n",
       "    </tr>\n",
       "    <tr>\n",
       "      <th>25%</th>\n",
       "      <td>28.000000</td>\n",
       "      <td>1.636008</td>\n",
       "      <td>68.295903</td>\n",
       "    </tr>\n",
       "    <tr>\n",
       "      <th>50%</th>\n",
       "      <td>42.000000</td>\n",
       "      <td>1.702588</td>\n",
       "      <td>81.615957</td>\n",
       "    </tr>\n",
       "    <tr>\n",
       "      <th>75%</th>\n",
       "      <td>57.000000</td>\n",
       "      <td>1.776343</td>\n",
       "      <td>95.336840</td>\n",
       "    </tr>\n",
       "    <tr>\n",
       "      <th>max</th>\n",
       "      <td>70.000000</td>\n",
       "      <td>2.054139</td>\n",
       "      <td>166.235710</td>\n",
       "    </tr>\n",
       "  </tbody>\n",
       "</table>\n",
       "</div>"
      ],
      "text/plain": [
       "                age        height        weight\n",
       "count  10000.000000  10000.000000  10000.000000\n",
       "mean      42.171700      1.708993     82.395292\n",
       "std       16.425919      0.099272     20.198597\n",
       "min       14.000000      1.376462     17.970189\n",
       "25%       28.000000      1.636008     68.295903\n",
       "50%       42.000000      1.702588     81.615957\n",
       "75%       57.000000      1.776343     95.336840\n",
       "max       70.000000      2.054139    166.235710"
      ]
     },
     "execution_count": 13,
     "metadata": {},
     "output_type": "execute_result"
    }
   ],
   "source": [
    "df.describe() "
   ]
  },
  {
   "cell_type": "markdown",
   "id": "818af924",
   "metadata": {},
   "source": [
    "Valores mais coerentes para o peso"
   ]
  },
  {
   "cell_type": "code",
   "execution_count": 14,
   "id": "e4efb27d",
   "metadata": {},
   "outputs": [
    {
     "data": {
      "text/plain": [
       "<Figure size 1400x1500 with 0 Axes>"
      ]
     },
     "metadata": {},
     "output_type": "display_data"
    },
    {
     "data": {
      "image/png": "[encoded data removed]",
      "text/plain": [
       "<Figure size 640x480 with 1 Axes>"
      ]
     },
     "metadata": {},
     "output_type": "display_data"
    }
   ],
   "source": [
    "plt.figure(figsize=(14, 15))\n",
    "df.plot(kind='scatter', x='height', y='weight', xlabel='altura', ylabel='peso')\n",
    "plt.show()"
   ]
  },
  {
   "cell_type": "markdown",
   "id": "4cf6a7cd",
   "metadata": {},
   "source": [
    "Agora vemos uma distrbuição melhor dos dados"
   ]
  },
  {
   "cell_type": "markdown",
   "id": "702d9678",
   "metadata": {},
   "source": [
    "## 2.c)"
   ]
  },
  {
   "cell_type": "code",
   "execution_count": 15,
   "id": "892fb8ce",
   "metadata": {
    "scrolled": true
   },
   "outputs": [],
   "source": [
    "df['IMC'] = df.weight/(df.height*df.height)"
   ]
  },
  {
   "cell_type": "code",
   "execution_count": 16,
   "id": "d89a9f78",
   "metadata": {},
   "outputs": [
    {
     "data": {
      "text/html": [
       "<div>\n",
       "<style scoped>\n",
       "    .dataframe tbody tr th:only-of-type {\n",
       "        vertical-align: middle;\n",
       "    }\n",
       "\n",
       "    .dataframe tbody tr th {\n",
       "        vertical-align: top;\n",
       "    }\n",
       "\n",
       "    .dataframe thead th {\n",
       "        text-align: right;\n",
       "    }\n",
       "</style>\n",
       "<table border=\"1\" class=\"dataframe\">\n",
       "  <thead>\n",
       "    <tr style=\"text-align: right;\">\n",
       "      <th></th>\n",
       "      <th>sex</th>\n",
       "      <th>age</th>\n",
       "      <th>height</th>\n",
       "      <th>weight</th>\n",
       "      <th>IMC</th>\n",
       "    </tr>\n",
       "  </thead>\n",
       "  <tbody>\n",
       "    <tr>\n",
       "      <th>0</th>\n",
       "      <td>M</td>\n",
       "      <td>62</td>\n",
       "      <td>1.874021</td>\n",
       "      <td>114.384199</td>\n",
       "      <td>32.569938</td>\n",
       "    </tr>\n",
       "    <tr>\n",
       "      <th>1</th>\n",
       "      <td>F</td>\n",
       "      <td>44</td>\n",
       "      <td>1.672676</td>\n",
       "      <td>76.031332</td>\n",
       "      <td>27.174950</td>\n",
       "    </tr>\n",
       "    <tr>\n",
       "      <th>2</th>\n",
       "      <td>F</td>\n",
       "      <td>49</td>\n",
       "      <td>1.587970</td>\n",
       "      <td>46.403086</td>\n",
       "      <td>18.401889</td>\n",
       "    </tr>\n",
       "    <tr>\n",
       "      <th>3</th>\n",
       "      <td>F</td>\n",
       "      <td>25</td>\n",
       "      <td>1.653451</td>\n",
       "      <td>104.352744</td>\n",
       "      <td>38.169932</td>\n",
       "    </tr>\n",
       "    <tr>\n",
       "      <th>4</th>\n",
       "      <td>M</td>\n",
       "      <td>65</td>\n",
       "      <td>1.744867</td>\n",
       "      <td>76.831890</td>\n",
       "      <td>25.235778</td>\n",
       "    </tr>\n",
       "    <tr>\n",
       "      <th>...</th>\n",
       "      <td>...</td>\n",
       "      <td>...</td>\n",
       "      <td>...</td>\n",
       "      <td>...</td>\n",
       "      <td>...</td>\n",
       "    </tr>\n",
       "    <tr>\n",
       "      <th>9995</th>\n",
       "      <td>M</td>\n",
       "      <td>68</td>\n",
       "      <td>1.999051</td>\n",
       "      <td>135.605141</td>\n",
       "      <td>33.933486</td>\n",
       "    </tr>\n",
       "    <tr>\n",
       "      <th>9996</th>\n",
       "      <td>F</td>\n",
       "      <td>33</td>\n",
       "      <td>1.601821</td>\n",
       "      <td>64.397906</td>\n",
       "      <td>25.098266</td>\n",
       "    </tr>\n",
       "    <tr>\n",
       "      <th>9997</th>\n",
       "      <td>M</td>\n",
       "      <td>25</td>\n",
       "      <td>1.926656</td>\n",
       "      <td>131.105269</td>\n",
       "      <td>35.319260</td>\n",
       "    </tr>\n",
       "    <tr>\n",
       "      <th>9998</th>\n",
       "      <td>F</td>\n",
       "      <td>32</td>\n",
       "      <td>1.844436</td>\n",
       "      <td>62.475271</td>\n",
       "      <td>18.364586</td>\n",
       "    </tr>\n",
       "    <tr>\n",
       "      <th>9999</th>\n",
       "      <td>M</td>\n",
       "      <td>61</td>\n",
       "      <td>1.958910</td>\n",
       "      <td>136.539595</td>\n",
       "      <td>35.581941</td>\n",
       "    </tr>\n",
       "  </tbody>\n",
       "</table>\n",
       "<p>10000 rows × 5 columns</p>\n",
       "</div>"
      ],
      "text/plain": [
       "     sex  age    height      weight        IMC\n",
       "0      M   62  1.874021  114.384199  32.569938\n",
       "1      F   44  1.672676   76.031332  27.174950\n",
       "2      F   49  1.587970   46.403086  18.401889\n",
       "3      F   25  1.653451  104.352744  38.169932\n",
       "4      M   65  1.744867   76.831890  25.235778\n",
       "...   ..  ...       ...         ...        ...\n",
       "9995   M   68  1.999051  135.605141  33.933486\n",
       "9996   F   33  1.601821   64.397906  25.098266\n",
       "9997   M   25  1.926656  131.105269  35.319260\n",
       "9998   F   32  1.844436   62.475271  18.364586\n",
       "9999   M   61  1.958910  136.539595  35.581941\n",
       "\n",
       "[10000 rows x 5 columns]"
      ]
     },
     "execution_count": 16,
     "metadata": {},
     "output_type": "execute_result"
    }
   ],
   "source": [
    "df"
   ]
  },
  {
   "cell_type": "markdown",
   "id": "49909ea3",
   "metadata": {},
   "source": [
    "## 2.d)"
   ]
  },
  {
   "cell_type": "markdown",
   "id": "7e7561fa",
   "metadata": {},
   "source": [
    "Outliers Univariados: São descobertos com análise de apenas uma variável"
   ]
  },
  {
   "cell_type": "markdown",
   "id": "6017d8f9",
   "metadata": {},
   "source": [
    "Outliers Multivariados: São descobertos com análise de mais de uma variável ao mesmo tempo."
   ]
  },
  {
   "cell_type": "code",
   "execution_count": 17,
   "id": "85bf938a",
   "metadata": {
    "scrolled": true
   },
   "outputs": [
    {
     "data": {
      "text/html": [
       "<div>\n",
       "<style scoped>\n",
       "    .dataframe tbody tr th:only-of-type {\n",
       "        vertical-align: middle;\n",
       "    }\n",
       "\n",
       "    .dataframe tbody tr th {\n",
       "        vertical-align: top;\n",
       "    }\n",
       "\n",
       "    .dataframe thead th {\n",
       "        text-align: right;\n",
       "    }\n",
       "</style>\n",
       "<table border=\"1\" class=\"dataframe\">\n",
       "  <thead>\n",
       "    <tr style=\"text-align: right;\">\n",
       "      <th></th>\n",
       "      <th>age</th>\n",
       "      <th>height</th>\n",
       "      <th>weight</th>\n",
       "      <th>IMC</th>\n",
       "    </tr>\n",
       "  </thead>\n",
       "  <tbody>\n",
       "    <tr>\n",
       "      <th>count</th>\n",
       "      <td>10000.000000</td>\n",
       "      <td>10000.000000</td>\n",
       "      <td>10000.000000</td>\n",
       "      <td>10000.000000</td>\n",
       "    </tr>\n",
       "    <tr>\n",
       "      <th>mean</th>\n",
       "      <td>42.171700</td>\n",
       "      <td>1.708993</td>\n",
       "      <td>82.395292</td>\n",
       "      <td>28.108263</td>\n",
       "    </tr>\n",
       "    <tr>\n",
       "      <th>std</th>\n",
       "      <td>16.425919</td>\n",
       "      <td>0.099272</td>\n",
       "      <td>20.198597</td>\n",
       "      <td>5.995677</td>\n",
       "    </tr>\n",
       "    <tr>\n",
       "      <th>min</th>\n",
       "      <td>14.000000</td>\n",
       "      <td>1.376462</td>\n",
       "      <td>17.970189</td>\n",
       "      <td>7.715833</td>\n",
       "    </tr>\n",
       "    <tr>\n",
       "      <th>25%</th>\n",
       "      <td>28.000000</td>\n",
       "      <td>1.636008</td>\n",
       "      <td>68.295903</td>\n",
       "      <td>24.060778</td>\n",
       "    </tr>\n",
       "    <tr>\n",
       "      <th>50%</th>\n",
       "      <td>42.000000</td>\n",
       "      <td>1.702588</td>\n",
       "      <td>81.615957</td>\n",
       "      <td>28.107503</td>\n",
       "    </tr>\n",
       "    <tr>\n",
       "      <th>75%</th>\n",
       "      <td>57.000000</td>\n",
       "      <td>1.776343</td>\n",
       "      <td>95.336840</td>\n",
       "      <td>32.205033</td>\n",
       "    </tr>\n",
       "    <tr>\n",
       "      <th>max</th>\n",
       "      <td>70.000000</td>\n",
       "      <td>2.054139</td>\n",
       "      <td>166.235710</td>\n",
       "      <td>53.519624</td>\n",
       "    </tr>\n",
       "  </tbody>\n",
       "</table>\n",
       "</div>"
      ],
      "text/plain": [
       "                age        height        weight           IMC\n",
       "count  10000.000000  10000.000000  10000.000000  10000.000000\n",
       "mean      42.171700      1.708993     82.395292     28.108263\n",
       "std       16.425919      0.099272     20.198597      5.995677\n",
       "min       14.000000      1.376462     17.970189      7.715833\n",
       "25%       28.000000      1.636008     68.295903     24.060778\n",
       "50%       42.000000      1.702588     81.615957     28.107503\n",
       "75%       57.000000      1.776343     95.336840     32.205033\n",
       "max       70.000000      2.054139    166.235710     53.519624"
      ]
     },
     "execution_count": 17,
     "metadata": {},
     "output_type": "execute_result"
    }
   ],
   "source": [
    "df.describe() #olhando a feature IMC já podemos analisar alguns valores discrepantes (multivariados)"
   ]
  },
  {
   "cell_type": "code",
   "execution_count": 18,
   "id": "40974c16",
   "metadata": {},
   "outputs": [],
   "source": [
    "mask = (df.IMC < 13) | (df.IMC > 48) #vamos tirar IMCS extremamente baixos ou altos\n",
    "outliers = df[mask].index"
   ]
  },
  {
   "cell_type": "code",
   "execution_count": 19,
   "id": "1a2703f9",
   "metadata": {
    "scrolled": true
   },
   "outputs": [],
   "source": [
    "df.loc[outliers, 'IMC']  = df[~mask].IMC.mean()\n",
    "df.loc[outliers, 'weight'] = df[mask].height*df[mask].height*df[~mask].IMC.mean()"
   ]
  },
  {
   "cell_type": "code",
   "execution_count": 21,
   "id": "23f904c7",
   "metadata": {
    "scrolled": false
   },
   "outputs": [
    {
     "data": {
      "text/plain": [
       "<Axes: xlabel='altura', ylabel='peso'>"
      ]
     },
     "execution_count": 21,
     "metadata": {},
     "output_type": "execute_result"
    },
    {
     "data": {
      "image/png": "[encoded data removed]",
      "text/plain": [
       "<Figure size 640x480 with 1 Axes>"
      ]
     },
     "metadata": {},
     "output_type": "display_data"
    }
   ],
   "source": [
    "df.plot(kind='scatter', x='height', y='weight', xlabel='altura', ylabel='peso')"
   ]
  },
  {
   "cell_type": "markdown",
   "id": "e97425ed",
   "metadata": {},
   "source": [
    "## 2.e)"
   ]
  },
  {
   "cell_type": "code",
   "execution_count": 23,
   "id": "d5e35b95",
   "metadata": {},
   "outputs": [],
   "source": [
    "saudavel = (df.IMC >= 18.5) & (df.IMC <= 24.9)"
   ]
  },
  {
   "cell_type": "code",
   "execution_count": 24,
   "id": "38e76734",
   "metadata": {},
   "outputs": [
    {
     "data": {
      "text/plain": [
       "24.060000000000002"
      ]
     },
     "execution_count": 24,
     "metadata": {},
     "output_type": "execute_result"
    }
   ],
   "source": [
    "df[saudavel].shape[0]/df.shape[0]*100"
   ]
  },
  {
   "cell_type": "markdown",
   "id": "b7d6ee8b",
   "metadata": {},
   "source": [
    "24% da população se enquadra como saudável de acordo com o dataset."
   ]
  },
  {
   "cell_type": "markdown",
   "id": "7688b75d",
   "metadata": {},
   "source": [
    "## 2.f)"
   ]
  },
  {
   "cell_type": "code",
   "execution_count": 25,
   "id": "fcb6a3e7",
   "metadata": {},
   "outputs": [
    {
     "data": {
      "text/plain": [
       "<Axes: xlabel='sex', ylabel='height'>"
      ]
     },
     "execution_count": 25,
     "metadata": {},
     "output_type": "execute_result"
    },
    {
     "data": {
      "image/png": "[encoded data removed]",
      "text/plain": [
       "<Figure size 1000x500 with 2 Axes>"
      ]
     },
     "metadata": {},
     "output_type": "display_data"
    }
   ],
   "source": [
    "plt.figure(figsize=(10, 5))\n",
    "\n",
    "plt.subplot(1, 2, 1)\n",
    "sns.violinplot(data=df, x='sex', y='weight')\n",
    "\n",
    "plt.subplot(1, 2, 2)\n",
    "sns.violinplot(data=df, x='sex', y='height')"
   ]
  },
  {
   "cell_type": "markdown",
   "id": "14e31940",
   "metadata": {},
   "source": [
    "O primeiro gráfico indica que as mulheres têm pesos ligeiramente menores que os homens, em geral. Enquanto elas se concentram próximas a 70kg, os homens se concentram perto dos 90kg"
   ]
  },
  {
   "cell_type": "markdown",
   "id": "38a68da4",
   "metadata": {},
   "source": [
    "O segundo gráfico mostra uma grande disparidade de altura entre homens e mulheres, sendo estas mais baixas que aqueles, em geral. As mulheres apresentariam uma altura média na casa de 1,65m, enquanto homens, por volta de 1,75."
   ]
  }
 ],
 "metadata": {
  "kernelspec": {
   "display_name": "Python 3 (ipykernel)",
   "language": "python",
   "name": "python3"
  },
  "language_info": {
   "codemirror_mode": {
    "name": "ipython",
    "version": 3
   },
   "file_extension": ".py",
   "mimetype": "text/x-python",
   "name": "python",
   "nbconvert_exporter": "python",
   "pygments_lexer": "ipython3",
   "version": "3.11.2"
  }
 },
 "nbformat": 4,
 "nbformat_minor": 5
}
